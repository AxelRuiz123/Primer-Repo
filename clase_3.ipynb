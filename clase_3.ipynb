{
 "cells": [
  {
   "cell_type": "code",
   "execution_count": 1,
   "metadata": {},
   "outputs": [
    {
     "name": "stdout",
     "output_type": "stream",
     "text": [
      "se cumple la condicion\n",
      "se cumple la condicion\n",
      "se cumple la condicion\n",
      "se cumple la condicion\n",
      "se cumple la condicion\n",
      "se cumple la condicion\n"
     ]
    }
   ],
   "source": [
    "contador = 0\n",
    "while contador <= 5:\n",
    "    print(\"se cumple la condicion\")\n",
    "    contador += 1"
   ]
  },
  {
   "cell_type": "code",
   "execution_count": null,
   "metadata": {},
   "outputs": [],
   "source": [
    "auth = 0\n",
    "while auth == 0:\n",
    "    username = input(\"¿Cual es tu usuario?\")\n",
    "    password = input(\"Dame tu contraseña\")\n",
    "    if len(password) < 6:\n",
    "        print(\"Necesitas crear una contraseña de mas de 6 digitos\")\n",
    "    else:\n",
    "        print(\"Usuario registrado\")\n",
    "        auth = 1"
   ]
  },
  {
   "cell_type": "code",
   "execution_count": 2,
   "metadata": {},
   "outputs": [
    {
     "name": "stdout",
     "output_type": "stream",
     "text": [
      "Hola mundo\n",
      "Hola mundo\n",
      "Hola mundo\n",
      "Hola mundo\n",
      "Hola mundo\n",
      "Hola mundo\n",
      "Hola mundo\n",
      "Hola mundo\n",
      "Hola mundo\n",
      "Hola mundo\n"
     ]
    }
   ],
   "source": [
    "for indice in range(10):\n",
    "    print(\"Hola mundo\")"
   ]
  },
  {
   "cell_type": "code",
   "execution_count": 3,
   "metadata": {},
   "outputs": [
    {
     "name": "stdout",
     "output_type": "stream",
     "text": [
      "0\n",
      "1\n",
      "2\n",
      "3\n",
      "4\n",
      "5\n",
      "6\n",
      "7\n",
      "8\n",
      "9\n"
     ]
    }
   ],
   "source": [
    "for i in range(10):\n",
    "    print(i)"
   ]
  },
  {
   "cell_type": "code",
   "execution_count": 4,
   "metadata": {},
   "outputs": [
    {
     "name": "stdout",
     "output_type": "stream",
     "text": [
      "5\n",
      "6\n",
      "7\n",
      "8\n",
      "9\n",
      "10\n",
      "11\n",
      "12\n",
      "13\n",
      "14\n"
     ]
    }
   ],
   "source": [
    "for i in range(5,15):\n",
    "    print(i)"
   ]
  },
  {
   "cell_type": "code",
   "execution_count": 5,
   "metadata": {},
   "outputs": [
    {
     "name": "stdout",
     "output_type": "stream",
     "text": [
      "5\n",
      "7\n",
      "9\n",
      "11\n",
      "13\n",
      "15\n",
      "17\n",
      "19\n",
      "21\n",
      "23\n"
     ]
    }
   ],
   "source": [
    "for i in range(5,25,2):\n",
    "    print(i)"
   ]
  },
  {
   "cell_type": "code",
   "execution_count": 6,
   "metadata": {},
   "outputs": [
    {
     "name": "stdout",
     "output_type": "stream",
     "text": [
      "0\n",
      "1\n",
      "2\n",
      "3\n",
      "4\n"
     ]
    }
   ],
   "source": [
    "n=int(input(\"¿Cuantas veces se repetira\"))\n",
    "for i in range(n):\n",
    "    print(i)"
   ]
  },
  {
   "cell_type": "code",
   "execution_count": 7,
   "metadata": {},
   "outputs": [
    {
     "name": "stdout",
     "output_type": "stream",
     "text": [
      "[0]\n",
      "[0, 1]\n",
      "[0, 1, 4]\n",
      "[0, 1, 4, 9]\n",
      "[0, 1, 4, 9, 16]\n",
      "[0, 1, 4, 9, 16, 25]\n",
      "[0, 1, 4, 9, 16, 25, 36]\n",
      "[0, 1, 4, 9, 16, 25, 36, 49]\n",
      "[0, 1, 4, 9, 16, 25, 36, 49, 64]\n",
      "[0, 1, 4, 9, 16, 25, 36, 49, 64, 81]\n"
     ]
    }
   ],
   "source": [
    "numeros_cuadrado = []\n",
    "for i in range(10):\n",
    "    numeros_cuadrado.append(i**2)\n",
    "    print(numeros_cuadrado)"
   ]
  },
  {
   "cell_type": "code",
   "execution_count": 8,
   "metadata": {},
   "outputs": [
    {
     "name": "stdout",
     "output_type": "stream",
     "text": [
      "Manzana\n",
      "Platano\n",
      "Pera\n",
      "Naranja\n"
     ]
    }
   ],
   "source": [
    "mis_frutas=[\"Manzana\",\"Platano\",\"Pera\",\"Naranja\"]\n",
    "for i in range(4):\n",
    "    print(mis_frutas[i])"
   ]
  },
  {
   "cell_type": "code",
   "execution_count": 9,
   "metadata": {},
   "outputs": [
    {
     "name": "stdout",
     "output_type": "stream",
     "text": [
      "Manzana\n",
      "Platano\n",
      "Pera\n",
      "Naranja\n"
     ]
    }
   ],
   "source": [
    "for i in range(len(mis_frutas)):\n",
    "    print(mis_frutas[i])"
   ]
  },
  {
   "cell_type": "code",
   "execution_count": 11,
   "metadata": {},
   "outputs": [
    {
     "name": "stdout",
     "output_type": "stream",
     "text": [
      "Manzana\n",
      "Platano\n",
      "Pera\n",
      "Naranja\n"
     ]
    }
   ],
   "source": [
    "for element in mis_frutas:\n",
    "    print(element)"
   ]
  },
  {
   "cell_type": "code",
   "execution_count": 21,
   "metadata": {},
   "outputs": [
    {
     "name": "stdout",
     "output_type": "stream",
     "text": [
      "Reprobado\n"
     ]
    }
   ],
   "source": [
    "calificaciones = []\n",
    "n=int(input(\"¿Cuantas calificaciones va a agregar\"))\n",
    "\n",
    "for i in range(n):\n",
    "    nota=int(input(\"Calificacion:\"))\n",
    "    calificaciones.append(nota)\n",
    "\n",
    "promedio = (sum(calificaciones)/len(calificaciones))\n",
    "\n",
    "if nota >=6:\n",
    "    print(\"Aprobado con promedio de:\",nota)\n",
    "else:\n",
    "    print(\"Reprobado\")    "
   ]
  },
  {
   "cell_type": "code",
   "execution_count": 22,
   "metadata": {},
   "outputs": [
    {
     "name": "stdout",
     "output_type": "stream",
     "text": [
      "name 'suma' is not defined\n"
     ]
    }
   ],
   "source": [
    "try:\n",
    "    print(f'La suma es {suma}')\n",
    "except Exception as error:\n",
    "    print(error)"
   ]
  }
 ],
 "metadata": {
  "kernelspec": {
   "display_name": "Python 3",
   "language": "python",
   "name": "python3"
  },
  "language_info": {
   "codemirror_mode": {
    "name": "ipython",
    "version": 3
   },
   "file_extension": ".py",
   "mimetype": "text/x-python",
   "name": "python",
   "nbconvert_exporter": "python",
   "pygments_lexer": "ipython3",
   "version": "3.9.13"
  },
  "orig_nbformat": 4,
  "vscode": {
   "interpreter": {
    "hash": "0b579a524447a14bd5ad13f9946bd19401e2d80d8033e26dc73562d393451d4e"
   }
  }
 },
 "nbformat": 4,
 "nbformat_minor": 2
}
